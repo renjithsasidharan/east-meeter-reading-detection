{
  "cells": [
    {
      "cell_type": "code",
      "execution_count": 1,
      "metadata": {
        "id": "aGcAqarnLcjp",
        "colab": {
          "base_uri": "https://localhost:8080/"
        },
        "outputId": "55dde4cd-76c8-4232-afc2-bc30df45f84d"
      },
      "outputs": [
        {
          "output_type": "stream",
          "name": "stdout",
          "text": [
            "TensorFlow 1.x selected.\n"
          ]
        }
      ],
      "source": [
        "%tensorflow_version 1.x\n",
        "\n",
        "import os\n",
        "from os.path import exists, join, basename, splitext\n",
        "\n",
        "project_name = 'EAST'\n",
        "#git_repo_url = 'https://github.com/argman/EAST.git'\n",
        "git_repo_url = 'https://github.com/renjithsasidharan/east-meeter-reading-detection.git'\n",
        "#project_name = splitext(basename(git_repo_url))[0]\n",
        "if not exists(project_name):\n",
        "  # clone and install\n",
        "  !git clone -q $git_repo_url $project_name\n",
        "  #!cd $project_name && pip install -q -r requirements.txt\n",
        "  # patch for the Python 3.7\n",
        "  !sed -i 's/python3-config/python3.7-config/g' EAST/lanms/Makefile\n",
        "  \n",
        "import sys\n",
        "sys.path.append(project_name)\n",
        "import time\n",
        "import matplotlib\n",
        "import matplotlib.pylab as plt\n",
        "plt.rcParams[\"axes.grid\"] = False"
      ]
    },
    {
      "cell_type": "code",
      "execution_count": 3,
      "metadata": {
        "id": "A1CTF4KnL6Vk"
      },
      "outputs": [],
      "source": [
        "pretrained_model = 'east_icdar2015_resnet_v1_50_rbox'\n",
        "if not exists(pretrained_model):\n",
        "  # download the pretrained model\n",
        "  pretrained_model_file_name = 'east_icdar2015_resnet_v1_50_rbox.zip'\n",
        "  !gdown --id 0B3APw5BZJ67ETHNPaU9xUkVoV0U\n",
        "  !unzip -qq $pretrained_model_file_name\n",
        "  !mkdir /tmp/east_icdar2015_resnet_v1_50_rbox\n",
        "  !mv east_icdar2015_resnet_v1_50_rbox/* /tmp/east_icdar2015_resnet_v1_50_rbox/\n",
        "\n",
        "\n",
        "!unzip -qq training_data.zip"
      ]
    },
    {
      "cell_type": "code",
      "execution_count": 6,
      "metadata": {
        "id": "oClzSZgkMFP4",
        "colab": {
          "base_uri": "https://localhost:8080/"
        },
        "outputId": "c40dcd9c-c811-4e94-ff7c-23ba1b9edc84"
      },
      "outputs": [
        {
          "output_type": "stream",
          "name": "stdout",
          "text": [
            "WARNING:tensorflow:\n",
            "The TensorFlow contrib module will not be included in TensorFlow 2.0.\n",
            "For more information, please see:\n",
            "  * https://github.com/tensorflow/community/blob/master/rfcs/20180907-contrib-sunset.md\n",
            "  * https://github.com/tensorflow/addons\n",
            "  * https://github.com/tensorflow/io (for I/O related ops)\n",
            "If you depend on functionality not listed there, please file an issue.\n",
            "\n",
            "WARNING:tensorflow:From EAST/multigpu_train.py:184: The name tf.app.run is deprecated. Please use tf.compat.v1.app.run instead.\n",
            "\n",
            "WARNING:tensorflow:From EAST/multigpu_train.py:73: The name tf.gfile.Exists is deprecated. Please use tf.io.gfile.exists instead.\n",
            "\n",
            "W0508 08:45:30.819310 140094719924096 module_wrapper.py:139] From EAST/multigpu_train.py:73: The name tf.gfile.Exists is deprecated. Please use tf.io.gfile.exists instead.\n",
            "\n",
            "WARNING:tensorflow:From EAST/multigpu_train.py:80: The name tf.placeholder is deprecated. Please use tf.compat.v1.placeholder instead.\n",
            "\n",
            "W0508 08:45:30.819593 140094719924096 module_wrapper.py:139] From EAST/multigpu_train.py:80: The name tf.placeholder is deprecated. Please use tf.compat.v1.placeholder instead.\n",
            "\n",
            "WARNING:tensorflow:From EAST/multigpu_train.py:88: The name tf.get_variable is deprecated. Please use tf.compat.v1.get_variable instead.\n",
            "\n",
            "W0508 08:45:30.829837 140094719924096 module_wrapper.py:139] From EAST/multigpu_train.py:88: The name tf.get_variable is deprecated. Please use tf.compat.v1.get_variable instead.\n",
            "\n",
            "WARNING:tensorflow:From EAST/multigpu_train.py:89: The name tf.train.exponential_decay is deprecated. Please use tf.compat.v1.train.exponential_decay instead.\n",
            "\n",
            "W0508 08:45:30.834159 140094719924096 module_wrapper.py:139] From EAST/multigpu_train.py:89: The name tf.train.exponential_decay is deprecated. Please use tf.compat.v1.train.exponential_decay instead.\n",
            "\n",
            "WARNING:tensorflow:From EAST/multigpu_train.py:91: The name tf.summary.scalar is deprecated. Please use tf.compat.v1.summary.scalar instead.\n",
            "\n",
            "W0508 08:45:30.838823 140094719924096 module_wrapper.py:139] From EAST/multigpu_train.py:91: The name tf.summary.scalar is deprecated. Please use tf.compat.v1.summary.scalar instead.\n",
            "\n",
            "WARNING:tensorflow:From EAST/multigpu_train.py:92: The name tf.train.AdamOptimizer is deprecated. Please use tf.compat.v1.train.AdamOptimizer instead.\n",
            "\n",
            "W0508 08:45:30.840214 140094719924096 module_wrapper.py:139] From EAST/multigpu_train.py:92: The name tf.train.AdamOptimizer is deprecated. Please use tf.compat.v1.train.AdamOptimizer instead.\n",
            "\n",
            "WARNING:tensorflow:From EAST/multigpu_train.py:30: The name tf.variable_scope is deprecated. Please use tf.compat.v1.variable_scope instead.\n",
            "\n",
            "W0508 08:45:30.849059 140094719924096 module_wrapper.py:139] From EAST/multigpu_train.py:30: The name tf.variable_scope is deprecated. Please use tf.compat.v1.variable_scope instead.\n",
            "\n",
            "WARNING:tensorflow:From EAST/multigpu_train.py:30: The name tf.get_variable_scope is deprecated. Please use tf.compat.v1.get_variable_scope instead.\n",
            "\n",
            "W0508 08:45:30.849258 140094719924096 module_wrapper.py:139] From EAST/multigpu_train.py:30: The name tf.get_variable_scope is deprecated. Please use tf.compat.v1.get_variable_scope instead.\n",
            "\n",
            "WARNING:tensorflow:From /content/EAST/nets/resnet_utils.py:236: The name tf.GraphKeys is deprecated. Please use tf.compat.v1.GraphKeys instead.\n",
            "\n",
            "W0508 08:45:30.855314 140094719924096 module_wrapper.py:139] From /content/EAST/nets/resnet_utils.py:236: The name tf.GraphKeys is deprecated. Please use tf.compat.v1.GraphKeys instead.\n",
            "\n",
            "WARNING:tensorflow:From /tensorflow-1.15.2/python3.7/tensorflow_core/contrib/layers/python/layers/layers.py:1057: Layer.apply (from tensorflow.python.keras.engine.base_layer) is deprecated and will be removed in a future version.\n",
            "Instructions for updating:\n",
            "Please use `layer.__call__` method instead.\n",
            "W0508 08:45:30.861384 140094719924096 deprecation.py:323] From /tensorflow-1.15.2/python3.7/tensorflow_core/contrib/layers/python/layers/layers.py:1057: Layer.apply (from tensorflow.python.keras.engine.base_layer) is deprecated and will be removed in a future version.\n",
            "Instructions for updating:\n",
            "Please use `layer.__call__` method instead.\n",
            "resnet_v1_50/block1 (?, ?, ?, 256)\n",
            "resnet_v1_50/block2 (?, ?, ?, 512)\n",
            "resnet_v1_50/block3 (?, ?, ?, 1024)\n",
            "resnet_v1_50/block4 (?, ?, ?, 2048)\n",
            "Shape of f_0 (?, ?, ?, 2048)\n",
            "Shape of f_1 (?, ?, ?, 512)\n",
            "Shape of f_2 (?, ?, ?, 256)\n",
            "Shape of f_3 (?, ?, ?, 64)\n",
            "WARNING:tensorflow:From /content/EAST/model.py:14: The name tf.image.resize_bilinear is deprecated. Please use tf.compat.v1.image.resize_bilinear instead.\n",
            "\n",
            "W0508 08:45:33.203740 140094719924096 module_wrapper.py:139] From /content/EAST/model.py:14: The name tf.image.resize_bilinear is deprecated. Please use tf.compat.v1.image.resize_bilinear instead.\n",
            "\n",
            "Shape of h_0 (?, ?, ?, 2048), g_0 (?, ?, ?, 2048)\n",
            "Shape of h_1 (?, ?, ?, 128), g_1 (?, ?, ?, 128)\n",
            "Shape of h_2 (?, ?, ?, 64), g_2 (?, ?, ?, 64)\n",
            "Shape of h_3 (?, ?, ?, 32), g_3 (?, ?, ?, 32)\n",
            "WARNING:tensorflow:From /content/EAST/model.py:130: The name tf.log is deprecated. Please use tf.math.log instead.\n",
            "\n",
            "W0508 08:45:33.601599 140094719924096 module_wrapper.py:139] From /content/EAST/model.py:130: The name tf.log is deprecated. Please use tf.math.log instead.\n",
            "\n",
            "WARNING:tensorflow:From EAST/multigpu_train.py:36: The name tf.get_collection is deprecated. Please use tf.compat.v1.get_collection instead.\n",
            "\n",
            "W0508 08:45:33.618127 140094719924096 module_wrapper.py:139] From EAST/multigpu_train.py:36: The name tf.get_collection is deprecated. Please use tf.compat.v1.get_collection instead.\n",
            "\n",
            "WARNING:tensorflow:From EAST/multigpu_train.py:40: The name tf.summary.image is deprecated. Please use tf.compat.v1.summary.image instead.\n",
            "\n",
            "W0508 08:45:33.620150 140094719924096 module_wrapper.py:139] From EAST/multigpu_train.py:40: The name tf.summary.image is deprecated. Please use tf.compat.v1.summary.image instead.\n",
            "\n",
            "WARNING:tensorflow:From /tensorflow-1.15.2/python3.7/tensorflow_core/python/ops/math_grad.py:1424: where (from tensorflow.python.ops.array_ops) is deprecated and will be removed in a future version.\n",
            "Instructions for updating:\n",
            "Use tf.where in 2.0, which has the same broadcast rule as np.where\n",
            "W0508 08:45:34.176727 140094719924096 deprecation.py:323] From /tensorflow-1.15.2/python3.7/tensorflow_core/python/ops/math_grad.py:1424: where (from tensorflow.python.ops.array_ops) is deprecated and will be removed in a future version.\n",
            "Instructions for updating:\n",
            "Use tf.where in 2.0, which has the same broadcast rule as np.where\n",
            "WARNING:tensorflow:From EAST/multigpu_train.py:123: The name tf.summary.merge_all is deprecated. Please use tf.compat.v1.summary.merge_all instead.\n",
            "\n",
            "W0508 08:45:38.032135 140094719924096 module_wrapper.py:139] From EAST/multigpu_train.py:123: The name tf.summary.merge_all is deprecated. Please use tf.compat.v1.summary.merge_all instead.\n",
            "\n",
            "WARNING:tensorflow:From EAST/multigpu_train.py:127: The name tf.trainable_variables is deprecated. Please use tf.compat.v1.trainable_variables instead.\n",
            "\n",
            "W0508 08:45:38.033286 140094719924096 module_wrapper.py:139] From EAST/multigpu_train.py:127: The name tf.trainable_variables is deprecated. Please use tf.compat.v1.trainable_variables instead.\n",
            "\n",
            "WARNING:tensorflow:From /tensorflow-1.15.2/python3.7/tensorflow_core/python/training/moving_averages.py:433: Variable.initialized_value (from tensorflow.python.ops.variables) is deprecated and will be removed in a future version.\n",
            "Instructions for updating:\n",
            "Use Variable.read_value. Variables in 2.X are initialized automatically both in eager and graph (inside tf.defun) contexts.\n",
            "W0508 08:45:38.033533 140094719924096 deprecation.py:323] From /tensorflow-1.15.2/python3.7/tensorflow_core/python/training/moving_averages.py:433: Variable.initialized_value (from tensorflow.python.ops.variables) is deprecated and will be removed in a future version.\n",
            "Instructions for updating:\n",
            "Use Variable.read_value. Variables in 2.X are initialized automatically both in eager and graph (inside tf.defun) contexts.\n",
            "WARNING:tensorflow:From EAST/multigpu_train.py:132: The name tf.train.Saver is deprecated. Please use tf.compat.v1.train.Saver instead.\n",
            "\n",
            "W0508 08:45:41.925694 140094719924096 module_wrapper.py:139] From EAST/multigpu_train.py:132: The name tf.train.Saver is deprecated. Please use tf.compat.v1.train.Saver instead.\n",
            "\n",
            "WARNING:tensorflow:From EAST/multigpu_train.py:132: The name tf.global_variables is deprecated. Please use tf.compat.v1.global_variables instead.\n",
            "\n",
            "W0508 08:45:41.926015 140094719924096 module_wrapper.py:139] From EAST/multigpu_train.py:132: The name tf.global_variables is deprecated. Please use tf.compat.v1.global_variables instead.\n",
            "\n",
            "WARNING:tensorflow:From EAST/multigpu_train.py:133: The name tf.summary.FileWriter is deprecated. Please use tf.compat.v1.summary.FileWriter instead.\n",
            "\n",
            "W0508 08:45:42.851245 140094719924096 module_wrapper.py:139] From EAST/multigpu_train.py:133: The name tf.summary.FileWriter is deprecated. Please use tf.compat.v1.summary.FileWriter instead.\n",
            "\n",
            "WARNING:tensorflow:From EAST/multigpu_train.py:133: The name tf.get_default_graph is deprecated. Please use tf.compat.v1.get_default_graph instead.\n",
            "\n",
            "W0508 08:45:42.851514 140094719924096 module_wrapper.py:139] From EAST/multigpu_train.py:133: The name tf.get_default_graph is deprecated. Please use tf.compat.v1.get_default_graph instead.\n",
            "\n",
            "WARNING:tensorflow:From EAST/multigpu_train.py:135: The name tf.global_variables_initializer is deprecated. Please use tf.compat.v1.global_variables_initializer instead.\n",
            "\n",
            "W0508 08:45:44.436601 140094719924096 module_wrapper.py:139] From EAST/multigpu_train.py:135: The name tf.global_variables_initializer is deprecated. Please use tf.compat.v1.global_variables_initializer instead.\n",
            "\n",
            "WARNING:tensorflow:From EAST/multigpu_train.py:140: The name tf.Session is deprecated. Please use tf.compat.v1.Session instead.\n",
            "\n",
            "W0508 08:45:44.446877 140094719924096 module_wrapper.py:139] From EAST/multigpu_train.py:140: The name tf.Session is deprecated. Please use tf.compat.v1.Session instead.\n",
            "\n",
            "WARNING:tensorflow:From EAST/multigpu_train.py:140: The name tf.ConfigProto is deprecated. Please use tf.compat.v1.ConfigProto instead.\n",
            "\n",
            "W0508 08:45:44.447134 140094719924096 module_wrapper.py:139] From EAST/multigpu_train.py:140: The name tf.ConfigProto is deprecated. Please use tf.compat.v1.ConfigProto instead.\n",
            "\n",
            "2022-05-08 08:45:44.458589: I tensorflow/core/platform/profile_utils/cpu_utils.cc:94] CPU Frequency: 2299995000 Hz\n",
            "2022-05-08 08:45:44.459040: I tensorflow/compiler/xla/service/service.cc:168] XLA service 0x165ef40 initialized for platform Host (this does not guarantee that XLA will be used). Devices:\n",
            "2022-05-08 08:45:44.459080: I tensorflow/compiler/xla/service/service.cc:176]   StreamExecutor device (0): Host, Default Version\n",
            "2022-05-08 08:45:44.463909: I tensorflow/stream_executor/platform/default/dso_loader.cc:44] Successfully opened dynamic library libcuda.so.1\n",
            "2022-05-08 08:45:44.757504: I tensorflow/stream_executor/cuda/cuda_gpu_executor.cc:983] successful NUMA node read from SysFS had negative value (-1), but there must be at least one NUMA node, so returning NUMA node zero\n",
            "2022-05-08 08:45:44.758686: I tensorflow/compiler/xla/service/service.cc:168] XLA service 0x165f800 initialized for platform CUDA (this does not guarantee that XLA will be used). Devices:\n",
            "2022-05-08 08:45:44.758729: I tensorflow/compiler/xla/service/service.cc:176]   StreamExecutor device (0): Tesla P100-PCIE-16GB, Compute Capability 6.0\n",
            "2022-05-08 08:45:44.760020: I tensorflow/stream_executor/cuda/cuda_gpu_executor.cc:983] successful NUMA node read from SysFS had negative value (-1), but there must be at least one NUMA node, so returning NUMA node zero\n",
            "2022-05-08 08:45:44.760927: I tensorflow/core/common_runtime/gpu/gpu_device.cc:1639] Found device 0 with properties: \n",
            "name: Tesla P100-PCIE-16GB major: 6 minor: 0 memoryClockRate(GHz): 1.3285\n",
            "pciBusID: 0000:00:04.0\n",
            "2022-05-08 08:45:44.769901: I tensorflow/stream_executor/platform/default/dso_loader.cc:44] Successfully opened dynamic library libcudart.so.10.1\n",
            "2022-05-08 08:45:44.961558: I tensorflow/stream_executor/platform/default/dso_loader.cc:44] Successfully opened dynamic library libcublas.so.10\n",
            "2022-05-08 08:45:44.988210: I tensorflow/stream_executor/platform/default/dso_loader.cc:44] Successfully opened dynamic library libcufft.so.10\n",
            "2022-05-08 08:45:45.005337: I tensorflow/stream_executor/platform/default/dso_loader.cc:44] Successfully opened dynamic library libcurand.so.10\n",
            "2022-05-08 08:45:45.266951: I tensorflow/stream_executor/platform/default/dso_loader.cc:44] Successfully opened dynamic library libcusolver.so.10\n",
            "2022-05-08 08:45:45.282677: I tensorflow/stream_executor/platform/default/dso_loader.cc:44] Successfully opened dynamic library libcusparse.so.10\n",
            "2022-05-08 08:45:45.675019: I tensorflow/stream_executor/platform/default/dso_loader.cc:44] Successfully opened dynamic library libcudnn.so.7\n",
            "2022-05-08 08:45:45.675262: I tensorflow/stream_executor/cuda/cuda_gpu_executor.cc:983] successful NUMA node read from SysFS had negative value (-1), but there must be at least one NUMA node, so returning NUMA node zero\n",
            "2022-05-08 08:45:45.676359: I tensorflow/stream_executor/cuda/cuda_gpu_executor.cc:983] successful NUMA node read from SysFS had negative value (-1), but there must be at least one NUMA node, so returning NUMA node zero\n",
            "2022-05-08 08:45:45.677292: I tensorflow/core/common_runtime/gpu/gpu_device.cc:1767] Adding visible gpu devices: 0\n",
            "2022-05-08 08:45:45.680857: I tensorflow/stream_executor/platform/default/dso_loader.cc:44] Successfully opened dynamic library libcudart.so.10.1\n",
            "2022-05-08 08:45:45.683160: I tensorflow/core/common_runtime/gpu/gpu_device.cc:1180] Device interconnect StreamExecutor with strength 1 edge matrix:\n",
            "2022-05-08 08:45:45.683195: I tensorflow/core/common_runtime/gpu/gpu_device.cc:1186]      0 \n",
            "2022-05-08 08:45:45.683206: I tensorflow/core/common_runtime/gpu/gpu_device.cc:1199] 0:   N \n",
            "2022-05-08 08:45:45.684461: I tensorflow/stream_executor/cuda/cuda_gpu_executor.cc:983] successful NUMA node read from SysFS had negative value (-1), but there must be at least one NUMA node, so returning NUMA node zero\n",
            "2022-05-08 08:45:45.685628: I tensorflow/stream_executor/cuda/cuda_gpu_executor.cc:983] successful NUMA node read from SysFS had negative value (-1), but there must be at least one NUMA node, so returning NUMA node zero\n",
            "2022-05-08 08:45:45.686536: W tensorflow/core/common_runtime/gpu/gpu_bfc_allocator.cc:39] Overriding allow_growth setting because the TF_FORCE_GPU_ALLOW_GROWTH environment variable is set. Original config value was 0.\n",
            "2022-05-08 08:45:45.686620: I tensorflow/core/common_runtime/gpu/gpu_device.cc:1325] Created TensorFlow device (/job:localhost/replica:0/task:0/device:GPU:0 with 15224 MB memory) -> physical GPU (device: 0, name: Tesla P100-PCIE-16GB, pci bus id: 0000:00:04.0, compute capability: 6.0)\n",
            "continue training from previous checkpoint\n",
            "INFO:tensorflow:Restoring parameters from /tmp/east_icdar2015_resnet_v1_50_rbox/model.ckpt-49491\n",
            "I0508 08:45:45.689651 140094719924096 saver.py:1284] Restoring parameters from /tmp/east_icdar2015_resnet_v1_50_rbox/model.ckpt-49491\n",
            "Generator use 10 batches for buffering, this may take a while, you can tune this yourself.\n",
            "130 training images in training_data\n",
            "130 training images in training_data\n",
            "130 training images in training_data\n",
            "130 training images in training_data\n",
            "130 training images in training_data\n",
            "130 training images in training_data\n",
            "130 training images in training_data\n",
            "130 training images in training_data\n",
            "130 training images in training_data\n",
            "130 training images in training_data\n",
            "130 training images in training_data\n",
            "130 training images in training_data\n",
            "130 training images in training_data\n",
            "130 training images in training_data\n",
            "130 training images in training_data\n",
            "130 training images in training_data\n",
            "130 training images in training_data\n",
            "130 training images in training_data\n",
            "130 training images in training_data\n",
            "130 training images in training_data\n",
            "130 training images in training_data\n",
            "130 training images in training_data\n",
            "130 training images in training_data\n",
            "130 training images in training_data\n",
            "2022-05-08 08:46:50.574943: I tensorflow/stream_executor/platform/default/dso_loader.cc:44] Successfully opened dynamic library libcudnn.so.7\n",
            "2022-05-08 08:46:55.615334: I tensorflow/stream_executor/platform/default/dso_loader.cc:44] Successfully opened dynamic library libcublas.so.10\n",
            "Step 000000, model loss 0.0114, total loss 0.0131, 6.92 seconds/step, 1.45 examples/second\n",
            "Step 000010, model loss 0.0092, total loss 0.0109, 1.14 seconds/step, 8.76 examples/second\n",
            "Step 000020, model loss 0.0076, total loss 0.0093, 0.52 seconds/step, 19.25 examples/second\n",
            "Step 000030, model loss 0.0143, total loss 0.0160, 0.61 seconds/step, 16.35 examples/second\n",
            "Step 000040, model loss 0.0066, total loss 0.0084, 2.12 seconds/step, 4.72 examples/second\n",
            "Step 000050, model loss 0.0060, total loss 0.0078, 1.50 seconds/step, 6.68 examples/second\n",
            "Step 000060, model loss 0.0039, total loss 0.0057, 1.36 seconds/step, 7.33 examples/second\n",
            "Step 000070, model loss 0.0104, total loss 0.0123, 2.34 seconds/step, 4.27 examples/second\n",
            "Step 000080, model loss 0.0061, total loss 0.0079, 2.73 seconds/step, 3.66 examples/second\n",
            "Step 000090, model loss 0.0059, total loss 0.0077, 1.82 seconds/step, 5.50 examples/second\n",
            "Step 000100, model loss 0.0037, total loss 0.0056, 1.99 seconds/step, 5.01 examples/second\n",
            "Step 000110, model loss 0.0046, total loss 0.0064, 2.68 seconds/step, 3.73 examples/second\n",
            "Step 000120, model loss 0.0043, total loss 0.0062, 2.34 seconds/step, 4.27 examples/second\n",
            "Step 000130, model loss 0.0046, total loss 0.0065, 1.25 seconds/step, 8.02 examples/second\n",
            "Step 000140, model loss 0.0056, total loss 0.0074, 2.43 seconds/step, 4.12 examples/second\n",
            "Step 000150, model loss 0.0061, total loss 0.0079, 1.76 seconds/step, 5.68 examples/second\n",
            "Step 000160, model loss 0.0054, total loss 0.0072, 1.48 seconds/step, 6.75 examples/second\n",
            "Step 000170, model loss 0.0055, total loss 0.0074, 2.66 seconds/step, 3.76 examples/second\n",
            "Step 000180, model loss 0.0061, total loss 0.0080, 1.58 seconds/step, 6.35 examples/second\n",
            "Step 000190, model loss 0.0044, total loss 0.0062, 2.13 seconds/step, 4.68 examples/second\n",
            "Step 000200, model loss 0.0027, total loss 0.0046, 1.97 seconds/step, 5.06 examples/second\n",
            "Step 000210, model loss 0.0025, total loss 0.0044, 2.45 seconds/step, 4.08 examples/second\n",
            "Step 000220, model loss 0.0027, total loss 0.0046, 1.42 seconds/step, 7.04 examples/second\n",
            "Step 000230, model loss 0.0032, total loss 0.0051, 2.13 seconds/step, 4.69 examples/second\n",
            "Step 000240, model loss 0.0028, total loss 0.0046, 2.04 seconds/step, 4.90 examples/second\n",
            "Step 000250, model loss 0.0053, total loss 0.0071, 3.12 seconds/step, 3.20 examples/second\n",
            "Step 000260, model loss 0.0027, total loss 0.0046, 1.56 seconds/step, 6.42 examples/second\n",
            "Step 000270, model loss 0.0025, total loss 0.0044, 2.73 seconds/step, 3.66 examples/second\n",
            "Step 000280, model loss 0.0044, total loss 0.0062, 2.24 seconds/step, 4.46 examples/second\n",
            "Step 000290, model loss 0.0030, total loss 0.0049, 2.16 seconds/step, 4.62 examples/second\n",
            "Step 000300, model loss 0.0027, total loss 0.0046, 2.42 seconds/step, 4.13 examples/second\n",
            "Step 000310, model loss 0.0031, total loss 0.0050, 2.54 seconds/step, 3.93 examples/second\n",
            "Step 000320, model loss 0.0043, total loss 0.0062, 0.65 seconds/step, 15.44 examples/second\n",
            "Step 000330, model loss 0.0076, total loss 0.0095, 2.58 seconds/step, 3.87 examples/second\n",
            "Step 000340, model loss 0.0041, total loss 0.0059, 1.84 seconds/step, 5.43 examples/second\n",
            "Step 000350, model loss 0.0037, total loss 0.0055, 1.55 seconds/step, 6.45 examples/second\n",
            "Step 000360, model loss 0.0035, total loss 0.0053, 2.24 seconds/step, 4.47 examples/second\n",
            "Step 000370, model loss 0.0030, total loss 0.0048, 2.04 seconds/step, 4.91 examples/second\n",
            "Step 000380, model loss 0.0035, total loss 0.0053, 2.32 seconds/step, 4.31 examples/second\n",
            "Step 000390, model loss 0.0027, total loss 0.0045, 1.89 seconds/step, 5.30 examples/second\n",
            "Step 000400, model loss 0.0115, total loss 0.0134, 1.71 seconds/step, 5.84 examples/second\n",
            "Step 000410, model loss 0.0029, total loss 0.0047, 2.86 seconds/step, 3.50 examples/second\n",
            "Step 000420, model loss 0.0055, total loss 0.0074, 1.57 seconds/step, 6.38 examples/second\n",
            "Step 000430, model loss 0.0061, total loss 0.0080, 2.66 seconds/step, 3.75 examples/second\n",
            "Step 000440, model loss 0.0032, total loss 0.0051, 2.11 seconds/step, 4.73 examples/second\n",
            "Step 000450, model loss 0.0034, total loss 0.0052, 1.24 seconds/step, 8.04 examples/second\n",
            "Step 000460, model loss 0.0039, total loss 0.0058, 2.20 seconds/step, 4.55 examples/second\n",
            "Step 000470, model loss 0.0046, total loss 0.0065, 2.16 seconds/step, 4.63 examples/second\n",
            "Step 000480, model loss 0.0033, total loss 0.0051, 2.17 seconds/step, 4.61 examples/second\n",
            "Step 000490, model loss 0.0024, total loss 0.0043, 1.90 seconds/step, 5.26 examples/second\n"
          ]
        }
      ],
      "source": [
        "!python EAST/multigpu_train.py --gpu_list=0 --input_size=512 --batch_size_per_gpu=14 \\\n",
        "--checkpoint_path=/tmp/east_icdar2015_resnet_v1_50_rbox/ \\\n",
        "--text_scale=512 --training_data_path=training_data --geometry=RBOX --learning_rate=0.0001 \\\n",
        "--num_readers=24 --restore --save_checkpoint_steps=100 --batch_size_per_gpu=10 --max_steps=500"
      ]
    },
    {
      "cell_type": "code",
      "source": [
        "!ls /tmp/east_icdar2015_resnet_v1_50_rbox"
      ],
      "metadata": {
        "colab": {
          "base_uri": "https://localhost:8080/"
        },
        "id": "5SgeXIL5ruQW",
        "outputId": "abbecfd7-d88d-4943-81bf-5b06cc2b039a"
      },
      "execution_count": 4,
      "outputs": [
        {
          "output_type": "stream",
          "name": "stdout",
          "text": [
            "checkpoint\t\t\t      model.ckpt-49491.index\n",
            "model.ckpt-49491.data-00000-of-00001  model.ckpt-49491.meta\n"
          ]
        }
      ]
    },
    {
      "cell_type": "code",
      "source": [
        "!zip checkpoint.zip /tmp/east_icdar2015_resnet_v1_50_rbox/model.ckpt-49896.data-00000-of-00001 /tmp/east_icdar2015_resnet_v1_50_rbox/model.ckpt-49896.index /tmp/east_icdar2015_resnet_v1_50_rbox/model.ckpt-49694.meta /tmp/east_icdar2015_resnet_v1_50_rbox/checkpoint"
      ],
      "metadata": {
        "colab": {
          "base_uri": "https://localhost:8080/"
        },
        "id": "FOtUZBdmsQNH",
        "outputId": "2fecf01c-9d69-4fff-a191-62b7e1ecdb97"
      },
      "execution_count": 5,
      "outputs": [
        {
          "output_type": "stream",
          "name": "stdout",
          "text": [
            "\tzip warning: name not matched: /tmp/east_icdar2015_resnet_v1_50_rbox/model.ckpt-49896.data-00000-of-00001\n",
            "\tzip warning: name not matched: /tmp/east_icdar2015_resnet_v1_50_rbox/model.ckpt-49896.index\n",
            "\tzip warning: name not matched: /tmp/east_icdar2015_resnet_v1_50_rbox/model.ckpt-49694.meta\n",
            "  adding: tmp/east_icdar2015_resnet_v1_50_rbox/checkpoint (deflated 78%)\n"
          ]
        }
      ]
    },
    {
      "cell_type": "code",
      "source": [
        "from google.colab import drive\n",
        "drive.mount('/content/gdrive')\n",
        "!cp /content/checkpoint.zip \"/content/gdrive/MyDrive/training_data/meeter-reader/east\""
      ],
      "metadata": {
        "colab": {
          "base_uri": "https://localhost:8080/"
        },
        "id": "zrMW-l_3fxqe",
        "outputId": "0425af14-7d09-4485-c012-2cc6ad314bcd"
      },
      "execution_count": null,
      "outputs": [
        {
          "output_type": "stream",
          "name": "stdout",
          "text": [
            "Mounted at /content/gdrive\n"
          ]
        }
      ]
    },
    {
      "cell_type": "markdown",
      "source": [
        "#### Covert checkpoint file to tensorlfow protobuff file. Protobuff file can be run on max/windows/linux"
      ],
      "metadata": {
        "id": "J4yA7i6fCXmm"
      }
    },
    {
      "cell_type": "code",
      "source": [
        "import tensorflow as tf\n",
        "import EAST.model as model\n",
        "\n",
        "tf.compat.v1.flags.DEFINE_string('f','','')\n",
        "tf.app.flags.DEFINE_string('checkpoint_path', '/tmp/east_icdar2015_resnet_v1_50_rbox/', '')\n",
        "FLAGS = tf.app.flags.FLAGS\n",
        "\n",
        "with tf.get_default_graph().as_default():\n",
        "        input_images = tf.placeholder(tf.float32, shape=[None, None, None, 3], name='input_images')\n",
        "        global_step = tf.get_variable('global_step', [], initializer=tf.constant_initializer(0), trainable=False)\n",
        "\n",
        "        _, _ = model.model(input_images, is_training=False)\n",
        "\n",
        "        variable_averages = tf.train.ExponentialMovingAverage(0.997, global_step)\n",
        "        saver = tf.train.Saver(variable_averages.variables_to_restore())\n",
        "\n",
        "        with tf.Session(config=tf.ConfigProto(allow_soft_placement=True)) as sess:\n",
        "            ckpt_state = tf.train.get_checkpoint_state(FLAGS.checkpoint_path)\n",
        "            model_path = os.path.join(FLAGS.checkpoint_path, os.path.basename(ckpt_state.model_checkpoint_path))\n",
        "            print('Restore from {}'.format(model_path))\n",
        "            saver.restore(sess, model_path)\n",
        "\n",
        "            # frozen graph\n",
        "            output_graph = \"east_det.pb\"\n",
        "            output_graph_def = tf.graph_util.convert_variables_to_constants(\n",
        "                sess,\n",
        "                tf.get_default_graph().as_graph_def(),\n",
        "                [\"feature_fusion/Conv_7/Sigmoid\", \"feature_fusion/concat_3\"])\n",
        "\n",
        "            with tf.gfile.GFile(output_graph, \"wb\") as f:\n",
        "                f.write(output_graph_def.SerializeToString())\n"
      ],
      "metadata": {
        "id": "pb46bTOshQPV",
        "colab": {
          "base_uri": "https://localhost:8080/"
        },
        "outputId": "3e6d0b6a-79a0-4de8-89ca-a39104ff7aba"
      },
      "execution_count": 3,
      "outputs": [
        {
          "output_type": "stream",
          "name": "stdout",
          "text": [
            "WARNING:tensorflow:From EAST/nets/resnet_utils.py:236: The name tf.GraphKeys is deprecated. Please use tf.compat.v1.GraphKeys instead.\n",
            "\n",
            "WARNING:tensorflow:From EAST/nets/resnet_v1.py:181: The name tf.variable_scope is deprecated. Please use tf.compat.v1.variable_scope instead.\n",
            "\n",
            "WARNING:tensorflow:From /tensorflow-1.15.2/python3.7/tensorflow_core/contrib/layers/python/layers/layers.py:1057: Layer.apply (from tensorflow.python.keras.engine.base_layer) is deprecated and will be removed in a future version.\n",
            "Instructions for updating:\n",
            "Please use `layer.__call__` method instead.\n",
            "resnet_v1_50/block1 (?, ?, ?, 256)\n",
            "resnet_v1_50/block2 (?, ?, ?, 512)\n",
            "resnet_v1_50/block3 (?, ?, ?, 1024)\n",
            "resnet_v1_50/block4 (?, ?, ?, 2048)\n",
            "Shape of f_0 (?, ?, ?, 2048)\n",
            "Shape of f_1 (?, ?, ?, 512)\n",
            "Shape of f_2 (?, ?, ?, 256)\n",
            "Shape of f_3 (?, ?, ?, 64)\n",
            "WARNING:tensorflow:From /content/EAST/model.py:14: The name tf.image.resize_bilinear is deprecated. Please use tf.compat.v1.image.resize_bilinear instead.\n",
            "\n",
            "Shape of h_0 (?, ?, ?, 2048), g_0 (?, ?, ?, 2048)\n",
            "Shape of h_1 (?, ?, ?, 128), g_1 (?, ?, ?, 128)\n",
            "Shape of h_2 (?, ?, ?, 64), g_2 (?, ?, ?, 64)\n",
            "Shape of h_3 (?, ?, ?, 32), g_3 (?, ?, ?, 32)\n",
            "Restore from /tmp/east_icdar2015_resnet_v1_50_rbox/model.ckpt-49491\n",
            "INFO:tensorflow:Restoring parameters from /tmp/east_icdar2015_resnet_v1_50_rbox/model.ckpt-49491\n",
            "WARNING:tensorflow:From <ipython-input-3-231e0009956a>:25: convert_variables_to_constants (from tensorflow.python.framework.graph_util_impl) is deprecated and will be removed in a future version.\n",
            "Instructions for updating:\n",
            "Use `tf.compat.v1.graph_util.convert_variables_to_constants`\n",
            "WARNING:tensorflow:From /tensorflow-1.15.2/python3.7/tensorflow_core/python/framework/graph_util_impl.py:277: extract_sub_graph (from tensorflow.python.framework.graph_util_impl) is deprecated and will be removed in a future version.\n",
            "Instructions for updating:\n",
            "Use `tf.compat.v1.graph_util.extract_sub_graph`\n",
            "INFO:tensorflow:Froze 306 variables.\n",
            "INFO:tensorflow:Converted 306 variables to const ops.\n"
          ]
        }
      ]
    },
    {
      "cell_type": "markdown",
      "source": [
        "#### Convert pb file to Tensorflow Lite model that can be run on mobile device"
      ],
      "metadata": {
        "id": "OY1kBnyeCgbQ"
      }
    },
    {
      "cell_type": "code",
      "source": [
        "IMG_SIZE = 320\n",
        "\n",
        "assert IMG_SIZE % 32 == 0, 'size has to be multiple of 32'\n",
        "\n",
        "converter = tf.compat.v1.lite.TFLiteConverter.from_frozen_graph(\n",
        "    graph_def_file='east_det.pb', \n",
        "    input_arrays=['input_images'],\n",
        "    output_arrays=['feature_fusion/Conv_7/Sigmoid', 'feature_fusion/concat_3'],\n",
        "    input_shapes={'input_images': [1, IMG_SIZE, IMG_SIZE, 3]}\n",
        ")\n",
        "\n",
        "converter.optimizations = [tf.lite.Optimize.DEFAULT]\n",
        "converter.target_spec.supported_types = [tf.float16]\n",
        "\n",
        "tflite_model = converter.convert()\n",
        "open('east_det_fp16.tflite', 'wb').write(tflite_model)\n",
        "\n",
        "\n",
        "converter = tf.compat.v1.lite.TFLiteConverter.from_frozen_graph(\n",
        "    graph_def_file='east_det.pb', \n",
        "    input_arrays=['input_images'],\n",
        "    output_arrays=['feature_fusion/Conv_7/Sigmoid', 'feature_fusion/concat_3'],\n",
        "    input_shapes={'input_images': [1, IMG_SIZE, IMG_SIZE, 3]}\n",
        ")\n",
        "\n",
        "converter.optimizations = [tf.lite.Optimize.DEFAULT]\n",
        "\n",
        "tflite_model = converter.convert()\n",
        "open('east_det_dr.tflite', 'wb').write(tflite_model)"
      ],
      "metadata": {
        "colab": {
          "base_uri": "https://localhost:8080/"
        },
        "id": "XR_JCdTRCnvg",
        "outputId": "0275fb4b-6fc7-47a2-b30f-267cee7e8d4f"
      },
      "execution_count": 4,
      "outputs": [
        {
          "output_type": "execute_result",
          "data": {
            "text/plain": [
              "24159856"
            ]
          },
          "metadata": {},
          "execution_count": 4
        }
      ]
    },
    {
      "cell_type": "markdown",
      "source": [
        "#### Download **Tensorfow Lite** model file"
      ],
      "metadata": {
        "id": "hDYQc98IDD_Z"
      }
    },
    {
      "cell_type": "code",
      "source": [
        "from google.colab import files\n",
        "files.download('/content/east_det_fp16.tflite')"
      ],
      "metadata": {
        "colab": {
          "base_uri": "https://localhost:8080/",
          "height": 34
        },
        "id": "YMlGQgl8DHGm",
        "outputId": "397a75b2-c834-4bf8-bfd8-2b1d01f25224"
      },
      "execution_count": 5,
      "outputs": [
        {
          "output_type": "display_data",
          "data": {
            "text/plain": [
              "<IPython.core.display.Javascript object>"
            ],
            "application/javascript": [
              "\n",
              "    async function download(id, filename, size) {\n",
              "      if (!google.colab.kernel.accessAllowed) {\n",
              "        return;\n",
              "      }\n",
              "      const div = document.createElement('div');\n",
              "      const label = document.createElement('label');\n",
              "      label.textContent = `Downloading \"${filename}\": `;\n",
              "      div.appendChild(label);\n",
              "      const progress = document.createElement('progress');\n",
              "      progress.max = size;\n",
              "      div.appendChild(progress);\n",
              "      document.body.appendChild(div);\n",
              "\n",
              "      const buffers = [];\n",
              "      let downloaded = 0;\n",
              "\n",
              "      const channel = await google.colab.kernel.comms.open(id);\n",
              "      // Send a message to notify the kernel that we're ready.\n",
              "      channel.send({})\n",
              "\n",
              "      for await (const message of channel.messages) {\n",
              "        // Send a message to notify the kernel that we're ready.\n",
              "        channel.send({})\n",
              "        if (message.buffers) {\n",
              "          for (const buffer of message.buffers) {\n",
              "            buffers.push(buffer);\n",
              "            downloaded += buffer.byteLength;\n",
              "            progress.value = downloaded;\n",
              "          }\n",
              "        }\n",
              "      }\n",
              "      const blob = new Blob(buffers, {type: 'application/binary'});\n",
              "      const a = document.createElement('a');\n",
              "      a.href = window.URL.createObjectURL(blob);\n",
              "      a.download = filename;\n",
              "      div.appendChild(a);\n",
              "      a.click();\n",
              "      div.remove();\n",
              "    }\n",
              "  "
            ]
          },
          "metadata": {}
        },
        {
          "output_type": "display_data",
          "data": {
            "text/plain": [
              "<IPython.core.display.Javascript object>"
            ],
            "application/javascript": [
              "download(\"download_15504e69-c85e-4464-be9b-588371c24e0e\", \"east_det_fp16.tflite\", 48135516)"
            ]
          },
          "metadata": {}
        }
      ]
    }
  ],
  "metadata": {
    "accelerator": "GPU",
    "colab": {
      "machine_shape": "hm",
      "name": "east_training.ipynb",
      "provenance": [],
      "collapsed_sections": []
    },
    "kernelspec": {
      "display_name": "Python 3",
      "name": "python3"
    },
    "language_info": {
      "name": "python"
    }
  },
  "nbformat": 4,
  "nbformat_minor": 0
}