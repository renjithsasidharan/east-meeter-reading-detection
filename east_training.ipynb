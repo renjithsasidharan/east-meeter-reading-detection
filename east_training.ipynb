{
  "cells": [
    {
      "cell_type": "code",
      "execution_count": null,
      "metadata": {
        "colab": {
          "base_uri": "https://localhost:8080/"
        },
        "id": "aGcAqarnLcjp",
        "outputId": "129ad570-4d5a-421a-a481-997b2812a153"
      },
      "outputs": [
        {
          "output_type": "stream",
          "name": "stdout",
          "text": [
            "TensorFlow 1.x selected.\n"
          ]
        }
      ],
      "source": [
        "%tensorflow_version 1.x\n",
        "\n",
        "import os\n",
        "from os.path import exists, join, basename, splitext\n",
        "\n",
        "git_repo_url = 'https://github.com/argman/EAST.git'\n",
        "project_name = splitext(basename(git_repo_url))[0]\n",
        "if not exists(project_name):\n",
        "  # clone and install\n",
        "  !git clone -q $git_repo_url\n",
        "  #!cd $project_name && pip install -q -r requirements.txt\n",
        "  # patch for the Python 3.7\n",
        "  !sed -i 's/python3-config/python3.7-config/g' EAST/lanms/Makefile\n",
        "  \n",
        "import sys\n",
        "sys.path.append(project_name)\n",
        "import time\n",
        "import matplotlib\n",
        "import matplotlib.pylab as plt\n",
        "plt.rcParams[\"axes.grid\"] = False"
      ]
    },
    {
      "cell_type": "code",
      "execution_count": null,
      "metadata": {
        "colab": {
          "base_uri": "https://localhost:8080/"
        },
        "id": "A1CTF4KnL6Vk",
        "outputId": "0a25efa4-66aa-4d15-c16f-8a9d762277c4"
      },
      "outputs": [
        {
          "output_type": "stream",
          "name": "stdout",
          "text": [
            "  % Total    % Received % Xferd  Average Speed   Time    Time     Time  Current\n",
            "                                 Dload  Upload   Total   Spent    Left  Speed\n",
            "100   403    0   403    0     0    790      0 --:--:-- --:--:-- --:--:--   790\n",
            "  0     0    0     0    0     0      0      0 --:--:-- --:--:-- --:--:--     0\n",
            "  0     0    0     0    0     0      0      0 --:--:-- --:--:-- --:--:--     0\n",
            "100  346M  100  346M    0     0   152M      0  0:00:02  0:00:02 --:--:--  346M\n"
          ]
        }
      ],
      "source": [
        "def download_from_google_drive(file_id, file_name):\n",
        "  # download a file from the Google Drive link\n",
        "  !rm -f ./cookie\n",
        "  !curl -c ./cookie -s -L \"https://drive.google.com/uc?export=download&id=$file_id\" > /dev/null\n",
        "  confirm_text = !awk '/download/ {print $NF}' ./cookie\n",
        "  confirm_text = confirm_text[0]\n",
        "  !curl -Lb ./cookie \"https://drive.google.com/uc?export=download&confirm=$confirm_text&id=$file_id\" -o $file_name\n",
        "  \n",
        "\n",
        "pretrained_model = 'east_icdar2015_resnet_v1_50_rbox'\n",
        "if not exists(pretrained_model):\n",
        "  # download the pretrained model\n",
        "  pretrained_model_file_name = 'east_icdar2015_resnet_v1_50_rbox.zip'\n",
        "  download_from_google_drive('0B3APw5BZJ67ETHNPaU9xUkVoV0U', pretrained_model_file_name)\n",
        "  !unzip -qq $pretrained_model_file_name\n",
        "  !mkdir /tmp/east_icdar2015_resnet_v1_50_rbox\n",
        "  !mv east_icdar2015_resnet_v1_50_rbox/* /tmp/east_icdar2015_resnet_v1_50_rbox/\n",
        "\n",
        "\n",
        "!unzip -qq training_data.zip"
      ]
    },
    {
      "cell_type": "code",
      "execution_count": null,
      "metadata": {
        "id": "oClzSZgkMFP4",
        "colab": {
          "base_uri": "https://localhost:8080/"
        },
        "outputId": "16722398-cf97-4b51-d027-32469f080225"
      },
      "outputs": [
        {
          "output_type": "stream",
          "name": "stdout",
          "text": [
            "WARNING:tensorflow:\n",
            "The TensorFlow contrib module will not be included in TensorFlow 2.0.\n",
            "For more information, please see:\n",
            "  * https://github.com/tensorflow/community/blob/master/rfcs/20180907-contrib-sunset.md\n",
            "  * https://github.com/tensorflow/addons\n",
            "  * https://github.com/tensorflow/io (for I/O related ops)\n",
            "If you depend on functionality not listed there, please file an issue.\n",
            "\n",
            "WARNING:tensorflow:From EAST/multigpu_train.py:180: The name tf.app.run is deprecated. Please use tf.compat.v1.app.run instead.\n",
            "\n",
            "WARNING:tensorflow:From EAST/multigpu_train.py:72: The name tf.gfile.Exists is deprecated. Please use tf.io.gfile.exists instead.\n",
            "\n",
            "W0105 17:38:38.488350 139812654860160 module_wrapper.py:139] From EAST/multigpu_train.py:72: The name tf.gfile.Exists is deprecated. Please use tf.io.gfile.exists instead.\n",
            "\n",
            "WARNING:tensorflow:From EAST/multigpu_train.py:79: The name tf.placeholder is deprecated. Please use tf.compat.v1.placeholder instead.\n",
            "\n",
            "W0105 17:38:38.488598 139812654860160 module_wrapper.py:139] From EAST/multigpu_train.py:79: The name tf.placeholder is deprecated. Please use tf.compat.v1.placeholder instead.\n",
            "\n",
            "WARNING:tensorflow:From EAST/multigpu_train.py:87: The name tf.get_variable is deprecated. Please use tf.compat.v1.get_variable instead.\n",
            "\n",
            "W0105 17:38:38.496618 139812654860160 module_wrapper.py:139] From EAST/multigpu_train.py:87: The name tf.get_variable is deprecated. Please use tf.compat.v1.get_variable instead.\n",
            "\n",
            "WARNING:tensorflow:From EAST/multigpu_train.py:88: The name tf.train.exponential_decay is deprecated. Please use tf.compat.v1.train.exponential_decay instead.\n",
            "\n",
            "W0105 17:38:38.500110 139812654860160 module_wrapper.py:139] From EAST/multigpu_train.py:88: The name tf.train.exponential_decay is deprecated. Please use tf.compat.v1.train.exponential_decay instead.\n",
            "\n",
            "WARNING:tensorflow:From EAST/multigpu_train.py:90: The name tf.summary.scalar is deprecated. Please use tf.compat.v1.summary.scalar instead.\n",
            "\n",
            "W0105 17:38:38.506605 139812654860160 module_wrapper.py:139] From EAST/multigpu_train.py:90: The name tf.summary.scalar is deprecated. Please use tf.compat.v1.summary.scalar instead.\n",
            "\n",
            "WARNING:tensorflow:From EAST/multigpu_train.py:91: The name tf.train.AdamOptimizer is deprecated. Please use tf.compat.v1.train.AdamOptimizer instead.\n",
            "\n",
            "W0105 17:38:38.507806 139812654860160 module_wrapper.py:139] From EAST/multigpu_train.py:91: The name tf.train.AdamOptimizer is deprecated. Please use tf.compat.v1.train.AdamOptimizer instead.\n",
            "\n",
            "WARNING:tensorflow:From EAST/multigpu_train.py:29: The name tf.variable_scope is deprecated. Please use tf.compat.v1.variable_scope instead.\n",
            "\n",
            "W0105 17:38:38.512512 139812654860160 module_wrapper.py:139] From EAST/multigpu_train.py:29: The name tf.variable_scope is deprecated. Please use tf.compat.v1.variable_scope instead.\n",
            "\n",
            "WARNING:tensorflow:From EAST/multigpu_train.py:29: The name tf.get_variable_scope is deprecated. Please use tf.compat.v1.get_variable_scope instead.\n",
            "\n",
            "W0105 17:38:38.512664 139812654860160 module_wrapper.py:139] From EAST/multigpu_train.py:29: The name tf.get_variable_scope is deprecated. Please use tf.compat.v1.get_variable_scope instead.\n",
            "\n",
            "WARNING:tensorflow:From /content/EAST/nets/resnet_utils.py:236: The name tf.GraphKeys is deprecated. Please use tf.compat.v1.GraphKeys instead.\n",
            "\n",
            "W0105 17:38:38.517256 139812654860160 module_wrapper.py:139] From /content/EAST/nets/resnet_utils.py:236: The name tf.GraphKeys is deprecated. Please use tf.compat.v1.GraphKeys instead.\n",
            "\n",
            "WARNING:tensorflow:From /tensorflow-1.15.2/python3.7/tensorflow_core/contrib/layers/python/layers/layers.py:1057: Layer.apply (from tensorflow.python.keras.engine.base_layer) is deprecated and will be removed in a future version.\n",
            "Instructions for updating:\n",
            "Please use `layer.__call__` method instead.\n",
            "W0105 17:38:38.522599 139812654860160 deprecation.py:323] From /tensorflow-1.15.2/python3.7/tensorflow_core/contrib/layers/python/layers/layers.py:1057: Layer.apply (from tensorflow.python.keras.engine.base_layer) is deprecated and will be removed in a future version.\n",
            "Instructions for updating:\n",
            "Please use `layer.__call__` method instead.\n",
            "resnet_v1_50/block1 (?, ?, ?, 256)\n",
            "resnet_v1_50/block2 (?, ?, ?, 512)\n",
            "resnet_v1_50/block3 (?, ?, ?, 1024)\n",
            "resnet_v1_50/block4 (?, ?, ?, 2048)\n",
            "Shape of f_0 (?, ?, ?, 2048)\n",
            "Shape of f_1 (?, ?, ?, 512)\n",
            "Shape of f_2 (?, ?, ?, 256)\n",
            "Shape of f_3 (?, ?, ?, 64)\n",
            "WARNING:tensorflow:From /content/EAST/model.py:14: The name tf.image.resize_bilinear is deprecated. Please use tf.compat.v1.image.resize_bilinear instead.\n",
            "\n",
            "W0105 17:38:40.304831 139812654860160 module_wrapper.py:139] From /content/EAST/model.py:14: The name tf.image.resize_bilinear is deprecated. Please use tf.compat.v1.image.resize_bilinear instead.\n",
            "\n",
            "Shape of h_0 (?, ?, ?, 2048), g_0 (?, ?, ?, 2048)\n",
            "Shape of h_1 (?, ?, ?, 128), g_1 (?, ?, ?, 128)\n",
            "Shape of h_2 (?, ?, ?, 64), g_2 (?, ?, ?, 64)\n",
            "Shape of h_3 (?, ?, ?, 32), g_3 (?, ?, ?, 32)\n",
            "WARNING:tensorflow:From /content/EAST/model.py:130: The name tf.log is deprecated. Please use tf.math.log instead.\n",
            "\n",
            "W0105 17:38:40.607994 139812654860160 module_wrapper.py:139] From /content/EAST/model.py:130: The name tf.log is deprecated. Please use tf.math.log instead.\n",
            "\n",
            "WARNING:tensorflow:From EAST/multigpu_train.py:35: The name tf.get_collection is deprecated. Please use tf.compat.v1.get_collection instead.\n",
            "\n",
            "W0105 17:38:40.620424 139812654860160 module_wrapper.py:139] From EAST/multigpu_train.py:35: The name tf.get_collection is deprecated. Please use tf.compat.v1.get_collection instead.\n",
            "\n",
            "WARNING:tensorflow:From EAST/multigpu_train.py:39: The name tf.summary.image is deprecated. Please use tf.compat.v1.summary.image instead.\n",
            "\n",
            "W0105 17:38:40.622184 139812654860160 module_wrapper.py:139] From EAST/multigpu_train.py:39: The name tf.summary.image is deprecated. Please use tf.compat.v1.summary.image instead.\n",
            "\n",
            "WARNING:tensorflow:From /tensorflow-1.15.2/python3.7/tensorflow_core/python/ops/math_grad.py:1424: where (from tensorflow.python.ops.array_ops) is deprecated and will be removed in a future version.\n",
            "Instructions for updating:\n",
            "Use tf.where in 2.0, which has the same broadcast rule as np.where\n",
            "W0105 17:38:41.038788 139812654860160 deprecation.py:323] From /tensorflow-1.15.2/python3.7/tensorflow_core/python/ops/math_grad.py:1424: where (from tensorflow.python.ops.array_ops) is deprecated and will be removed in a future version.\n",
            "Instructions for updating:\n",
            "Use tf.where in 2.0, which has the same broadcast rule as np.where\n",
            "WARNING:tensorflow:From EAST/multigpu_train.py:120: The name tf.summary.merge_all is deprecated. Please use tf.compat.v1.summary.merge_all instead.\n",
            "\n",
            "W0105 17:38:43.947311 139812654860160 module_wrapper.py:139] From EAST/multigpu_train.py:120: The name tf.summary.merge_all is deprecated. Please use tf.compat.v1.summary.merge_all instead.\n",
            "\n",
            "WARNING:tensorflow:From EAST/multigpu_train.py:124: The name tf.trainable_variables is deprecated. Please use tf.compat.v1.trainable_variables instead.\n",
            "\n",
            "W0105 17:38:43.948232 139812654860160 module_wrapper.py:139] From EAST/multigpu_train.py:124: The name tf.trainable_variables is deprecated. Please use tf.compat.v1.trainable_variables instead.\n",
            "\n",
            "WARNING:tensorflow:From /tensorflow-1.15.2/python3.7/tensorflow_core/python/training/moving_averages.py:433: Variable.initialized_value (from tensorflow.python.ops.variables) is deprecated and will be removed in a future version.\n",
            "Instructions for updating:\n",
            "Use Variable.read_value. Variables in 2.X are initialized automatically both in eager and graph (inside tf.defun) contexts.\n",
            "W0105 17:38:43.948500 139812654860160 deprecation.py:323] From /tensorflow-1.15.2/python3.7/tensorflow_core/python/training/moving_averages.py:433: Variable.initialized_value (from tensorflow.python.ops.variables) is deprecated and will be removed in a future version.\n",
            "Instructions for updating:\n",
            "Use Variable.read_value. Variables in 2.X are initialized automatically both in eager and graph (inside tf.defun) contexts.\n",
            "WARNING:tensorflow:From EAST/multigpu_train.py:129: The name tf.train.Saver is deprecated. Please use tf.compat.v1.train.Saver instead.\n",
            "\n",
            "W0105 17:38:46.808897 139812654860160 module_wrapper.py:139] From EAST/multigpu_train.py:129: The name tf.train.Saver is deprecated. Please use tf.compat.v1.train.Saver instead.\n",
            "\n",
            "WARNING:tensorflow:From EAST/multigpu_train.py:129: The name tf.global_variables is deprecated. Please use tf.compat.v1.global_variables instead.\n",
            "\n",
            "W0105 17:38:46.809116 139812654860160 module_wrapper.py:139] From EAST/multigpu_train.py:129: The name tf.global_variables is deprecated. Please use tf.compat.v1.global_variables instead.\n",
            "\n",
            "WARNING:tensorflow:From EAST/multigpu_train.py:130: The name tf.summary.FileWriter is deprecated. Please use tf.compat.v1.summary.FileWriter instead.\n",
            "\n",
            "W0105 17:38:47.499384 139812654860160 module_wrapper.py:139] From EAST/multigpu_train.py:130: The name tf.summary.FileWriter is deprecated. Please use tf.compat.v1.summary.FileWriter instead.\n",
            "\n",
            "WARNING:tensorflow:From EAST/multigpu_train.py:130: The name tf.get_default_graph is deprecated. Please use tf.compat.v1.get_default_graph instead.\n",
            "\n",
            "W0105 17:38:47.499603 139812654860160 module_wrapper.py:139] From EAST/multigpu_train.py:130: The name tf.get_default_graph is deprecated. Please use tf.compat.v1.get_default_graph instead.\n",
            "\n",
            "WARNING:tensorflow:From EAST/multigpu_train.py:132: The name tf.global_variables_initializer is deprecated. Please use tf.compat.v1.global_variables_initializer instead.\n",
            "\n",
            "W0105 17:38:48.740133 139812654860160 module_wrapper.py:139] From EAST/multigpu_train.py:132: The name tf.global_variables_initializer is deprecated. Please use tf.compat.v1.global_variables_initializer instead.\n",
            "\n",
            "WARNING:tensorflow:From EAST/multigpu_train.py:137: The name tf.Session is deprecated. Please use tf.compat.v1.Session instead.\n",
            "\n",
            "W0105 17:38:48.749447 139812654860160 module_wrapper.py:139] From EAST/multigpu_train.py:137: The name tf.Session is deprecated. Please use tf.compat.v1.Session instead.\n",
            "\n",
            "WARNING:tensorflow:From EAST/multigpu_train.py:137: The name tf.ConfigProto is deprecated. Please use tf.compat.v1.ConfigProto instead.\n",
            "\n",
            "W0105 17:38:48.749651 139812654860160 module_wrapper.py:139] From EAST/multigpu_train.py:137: The name tf.ConfigProto is deprecated. Please use tf.compat.v1.ConfigProto instead.\n",
            "\n",
            "2022-01-05 17:38:48.759290: I tensorflow/core/platform/profile_utils/cpu_utils.cc:94] CPU Frequency: 2199995000 Hz\n",
            "2022-01-05 17:38:48.759654: I tensorflow/compiler/xla/service/service.cc:168] XLA service 0x55f8dbec7640 initialized for platform Host (this does not guarantee that XLA will be used). Devices:\n",
            "2022-01-05 17:38:48.759683: I tensorflow/compiler/xla/service/service.cc:176]   StreamExecutor device (0): Host, Default Version\n",
            "2022-01-05 17:38:48.764921: I tensorflow/stream_executor/platform/default/dso_loader.cc:44] Successfully opened dynamic library libcuda.so.1\n",
            "2022-01-05 17:38:49.035673: I tensorflow/stream_executor/cuda/cuda_gpu_executor.cc:983] successful NUMA node read from SysFS had negative value (-1), but there must be at least one NUMA node, so returning NUMA node zero\n",
            "2022-01-05 17:38:49.036368: I tensorflow/compiler/xla/service/service.cc:168] XLA service 0x55f8dbec7480 initialized for platform CUDA (this does not guarantee that XLA will be used). Devices:\n",
            "2022-01-05 17:38:49.036408: I tensorflow/compiler/xla/service/service.cc:176]   StreamExecutor device (0): Tesla P100-PCIE-16GB, Compute Capability 6.0\n",
            "2022-01-05 17:38:49.037196: I tensorflow/stream_executor/cuda/cuda_gpu_executor.cc:983] successful NUMA node read from SysFS had negative value (-1), but there must be at least one NUMA node, so returning NUMA node zero\n",
            "2022-01-05 17:38:49.037764: I tensorflow/core/common_runtime/gpu/gpu_device.cc:1639] Found device 0 with properties: \n",
            "name: Tesla P100-PCIE-16GB major: 6 minor: 0 memoryClockRate(GHz): 1.3285\n",
            "pciBusID: 0000:00:04.0\n",
            "2022-01-05 17:38:49.053357: I tensorflow/stream_executor/platform/default/dso_loader.cc:44] Successfully opened dynamic library libcudart.so.10.1\n",
            "2022-01-05 17:38:49.197513: I tensorflow/stream_executor/platform/default/dso_loader.cc:44] Successfully opened dynamic library libcublas.so.10\n",
            "2022-01-05 17:38:49.225748: I tensorflow/stream_executor/platform/default/dso_loader.cc:44] Successfully opened dynamic library libcufft.so.10\n",
            "2022-01-05 17:38:49.248579: I tensorflow/stream_executor/platform/default/dso_loader.cc:44] Successfully opened dynamic library libcurand.so.10\n",
            "2022-01-05 17:38:49.392278: I tensorflow/stream_executor/platform/default/dso_loader.cc:44] Successfully opened dynamic library libcusolver.so.10\n",
            "2022-01-05 17:38:49.407668: I tensorflow/stream_executor/platform/default/dso_loader.cc:44] Successfully opened dynamic library libcusparse.so.10\n",
            "2022-01-05 17:38:49.687015: I tensorflow/stream_executor/platform/default/dso_loader.cc:44] Successfully opened dynamic library libcudnn.so.7\n",
            "2022-01-05 17:38:49.687175: I tensorflow/stream_executor/cuda/cuda_gpu_executor.cc:983] successful NUMA node read from SysFS had negative value (-1), but there must be at least one NUMA node, so returning NUMA node zero\n",
            "2022-01-05 17:38:49.687818: I tensorflow/stream_executor/cuda/cuda_gpu_executor.cc:983] successful NUMA node read from SysFS had negative value (-1), but there must be at least one NUMA node, so returning NUMA node zero\n",
            "2022-01-05 17:38:49.688327: I tensorflow/core/common_runtime/gpu/gpu_device.cc:1767] Adding visible gpu devices: 0\n",
            "2022-01-05 17:38:49.691535: I tensorflow/stream_executor/platform/default/dso_loader.cc:44] Successfully opened dynamic library libcudart.so.10.1\n",
            "2022-01-05 17:38:49.692929: I tensorflow/core/common_runtime/gpu/gpu_device.cc:1180] Device interconnect StreamExecutor with strength 1 edge matrix:\n",
            "2022-01-05 17:38:49.692957: I tensorflow/core/common_runtime/gpu/gpu_device.cc:1186]      0 \n",
            "2022-01-05 17:38:49.692965: I tensorflow/core/common_runtime/gpu/gpu_device.cc:1199] 0:   N \n",
            "2022-01-05 17:38:49.693827: I tensorflow/stream_executor/cuda/cuda_gpu_executor.cc:983] successful NUMA node read from SysFS had negative value (-1), but there must be at least one NUMA node, so returning NUMA node zero\n",
            "2022-01-05 17:38:49.694473: I tensorflow/stream_executor/cuda/cuda_gpu_executor.cc:983] successful NUMA node read from SysFS had negative value (-1), but there must be at least one NUMA node, so returning NUMA node zero\n",
            "2022-01-05 17:38:49.695000: W tensorflow/core/common_runtime/gpu/gpu_bfc_allocator.cc:39] Overriding allow_growth setting because the TF_FORCE_GPU_ALLOW_GROWTH environment variable is set. Original config value was 0.\n",
            "2022-01-05 17:38:49.695035: I tensorflow/core/common_runtime/gpu/gpu_device.cc:1325] Created TensorFlow device (/job:localhost/replica:0/task:0/device:GPU:0 with 15224 MB memory) -> physical GPU (device: 0, name: Tesla P100-PCIE-16GB, pci bus id: 0000:00:04.0, compute capability: 6.0)\n",
            "continue training from previous checkpoint\n",
            "INFO:tensorflow:Restoring parameters from /tmp/east_icdar2015_resnet_v1_50_rbox/model.ckpt-49491\n",
            "I0105 17:38:49.697587 139812654860160 saver.py:1284] Restoring parameters from /tmp/east_icdar2015_resnet_v1_50_rbox/model.ckpt-49491\n",
            "Generator use 10 batches for buffering, this may take a while, you can tune this yourself.\n",
            "66 training images in training_data\n",
            "66 training images in training_data\n",
            "66 training images in training_data\n",
            "66 training images in training_data\n",
            "66 training images in training_data\n",
            "66 training images in training_data\n",
            "66 training images in training_data\n",
            "66 training images in training_data\n",
            "66 training images in training_data\n",
            "66 training images in training_data\n",
            "66 training images in training_data\n",
            "66 training images in training_data\n",
            "66 training images in training_data\n",
            "66 training images in training_data\n",
            "66 training images in training_data\n",
            "66 training images in training_data\n",
            "66 training images in training_data\n",
            "66 training images in training_data\n",
            "66 training images in training_data\n",
            "66 training images in training_data\n",
            "66 training images in training_data\n",
            "66 training images in training_data\n",
            "66 training images in training_data\n",
            "66 training images in training_data\n",
            "2022-01-05 17:39:43.293487: I tensorflow/stream_executor/platform/default/dso_loader.cc:44] Successfully opened dynamic library libcudnn.so.7\n",
            "2022-01-05 17:39:46.691495: I tensorflow/stream_executor/platform/default/dso_loader.cc:44] Successfully opened dynamic library libcublas.so.10\n",
            "Step 000000, model loss 0.0136, total loss 0.0153, 5.72 seconds/step, 1.75 examples/second\n",
            "Step 000010, model loss 0.0115, total loss 0.0132, 0.99 seconds/step, 10.07 examples/second\n",
            "Step 000020, model loss 0.0079, total loss 0.0096, 0.47 seconds/step, 21.15 examples/second\n",
            "Step 000030, model loss 0.0101, total loss 0.0118, 0.53 seconds/step, 18.83 examples/second\n",
            "Step 000040, model loss 0.0060, total loss 0.0078, 1.33 seconds/step, 7.53 examples/second\n",
            "Step 000050, model loss 0.0070, total loss 0.0087, 1.69 seconds/step, 5.91 examples/second\n",
            "Step 000060, model loss 0.0091, total loss 0.0109, 1.86 seconds/step, 5.37 examples/second\n",
            "Step 000070, model loss 0.0032, total loss 0.0050, 1.58 seconds/step, 6.32 examples/second\n",
            "Step 000080, model loss 0.0033, total loss 0.0051, 2.27 seconds/step, 4.40 examples/second\n",
            "Step 000090, model loss 0.0036, total loss 0.0054, 1.10 seconds/step, 9.05 examples/second\n",
            "Step 000100, model loss 0.0048, total loss 0.0067, 1.78 seconds/step, 5.63 examples/second\n",
            "Step 000110, model loss 0.0024, total loss 0.0042, 2.40 seconds/step, 4.17 examples/second\n",
            "Step 000120, model loss 0.0019, total loss 0.0037, 2.56 seconds/step, 3.90 examples/second\n",
            "Step 000130, model loss 0.0048, total loss 0.0066, 1.06 seconds/step, 9.42 examples/second\n",
            "Step 000140, model loss 0.0052, total loss 0.0070, 1.76 seconds/step, 5.68 examples/second\n",
            "Step 000150, model loss 0.0044, total loss 0.0062, 2.08 seconds/step, 4.80 examples/second\n",
            "Step 000160, model loss 0.0027, total loss 0.0045, 1.35 seconds/step, 7.41 examples/second\n",
            "Step 000170, model loss 0.0033, total loss 0.0052, 1.87 seconds/step, 5.35 examples/second\n",
            "Step 000180, model loss 0.0026, total loss 0.0044, 1.39 seconds/step, 7.19 examples/second\n",
            "Step 000190, model loss 0.0023, total loss 0.0042, 1.34 seconds/step, 7.46 examples/second\n",
            "Step 000200, model loss 0.0021, total loss 0.0039, 2.25 seconds/step, 4.44 examples/second\n",
            "Step 000210, model loss 0.0036, total loss 0.0054, 2.02 seconds/step, 4.94 examples/second\n",
            "Step 000220, model loss 0.0026, total loss 0.0044, 1.45 seconds/step, 6.89 examples/second\n",
            "Step 000230, model loss 0.0022, total loss 0.0041, 2.56 seconds/step, 3.90 examples/second\n",
            "Step 000240, model loss 0.0017, total loss 0.0035, 1.93 seconds/step, 5.18 examples/second\n",
            "Step 000250, model loss 0.0014, total loss 0.0032, 1.31 seconds/step, 7.66 examples/second\n",
            "Step 000260, model loss 0.0018, total loss 0.0036, 2.94 seconds/step, 3.40 examples/second\n",
            "Step 000270, model loss 0.0021, total loss 0.0039, 2.05 seconds/step, 4.89 examples/second\n",
            "Step 000280, model loss 0.0027, total loss 0.0045, 1.51 seconds/step, 6.63 examples/second\n",
            "Step 000290, model loss 0.0020, total loss 0.0039, 2.12 seconds/step, 4.73 examples/second\n"
          ]
        }
      ],
      "source": [
        "!python EAST/multigpu_train.py --gpu_list=0 --input_size=512 --batch_size_per_gpu=14 \\\n",
        "--checkpoint_path=/tmp/east_icdar2015_resnet_v1_50_rbox/ \\\n",
        "--text_scale=512 --training_data_path=training_data --geometry=RBOX --learning_rate=0.0001 \\\n",
        "--num_readers=24 --restore --save_checkpoint_steps=100 --batch_size_per_gpu=10 --max_steps=300"
      ]
    },
    {
      "cell_type": "code",
      "source": [
        "!ls /tmp/east_icdar2015_resnet_v1_50_rbox"
      ],
      "metadata": {
        "colab": {
          "base_uri": "https://localhost:8080/"
        },
        "id": "5SgeXIL5ruQW",
        "outputId": "6e536d5b-0619-42e0-f752-49f2435eae88"
      },
      "execution_count": null,
      "outputs": [
        {
          "output_type": "stream",
          "name": "stdout",
          "text": [
            "checkpoint\n",
            "events.out.tfevents.1641404328.de4d7887bfe4\n",
            "model.ckpt-49491.data-00000-of-00001\n",
            "model.ckpt-49491.index\n",
            "model.ckpt-49491.meta\n",
            "model.ckpt-49492.data-00000-of-00001\n",
            "model.ckpt-49492.index\n",
            "model.ckpt-49492.meta\n",
            "model.ckpt-49593.data-00000-of-00001\n",
            "model.ckpt-49593.index\n",
            "model.ckpt-49593.meta\n",
            "model.ckpt-49694.data-00000-of-00001\n",
            "model.ckpt-49694.index\n",
            "model.ckpt-49694.meta\n"
          ]
        }
      ]
    },
    {
      "cell_type": "code",
      "source": [
        "!zip checkpoint.zip /tmp/east_icdar2015_resnet_v1_50_rbox/model.ckpt-49694.data-00000-of-00001 /tmp/east_icdar2015_resnet_v1_50_rbox/model.ckpt-49694.index /tmp/east_icdar2015_resnet_v1_50_rbox/model.ckpt-49694.meta /tmp/east_icdar2015_resnet_v1_50_rbox/checkpoint"
      ],
      "metadata": {
        "colab": {
          "base_uri": "https://localhost:8080/"
        },
        "id": "FOtUZBdmsQNH",
        "outputId": "11a3ef57-67f8-46a8-8604-0c8ef5abcdc7"
      },
      "execution_count": null,
      "outputs": [
        {
          "output_type": "stream",
          "name": "stdout",
          "text": [
            "  adding: tmp/east_icdar2015_resnet_v1_50_rbox/model.ckpt-49694.data-00000-of-00001 (deflated 6%)\n",
            "  adding: tmp/east_icdar2015_resnet_v1_50_rbox/model.ckpt-49694.index (deflated 72%)\n",
            "  adding: tmp/east_icdar2015_resnet_v1_50_rbox/model.ckpt-49694.meta (deflated 94%)\n",
            "  adding: tmp/east_icdar2015_resnet_v1_50_rbox/checkpoint (deflated 70%)\n"
          ]
        }
      ]
    },
    {
      "cell_type": "code",
      "source": [
        "from google.colab import drive\n",
        "drive.mount('/content/gdrive')\n",
        "!cp /content/checkpoint.zip \"/content/gdrive/MyDrive/training_data/meeter-reader/east\""
      ],
      "metadata": {
        "colab": {
          "base_uri": "https://localhost:8080/"
        },
        "id": "zrMW-l_3fxqe",
        "outputId": "66a95bdd-0e57-4450-cb05-c8ecaef43bcc"
      },
      "execution_count": null,
      "outputs": [
        {
          "output_type": "stream",
          "name": "stdout",
          "text": [
            "Mounted at /content/gdrive\n"
          ]
        }
      ]
    },
    {
      "cell_type": "code",
      "source": [
        ""
      ],
      "metadata": {
        "id": "pb46bTOshQPV"
      },
      "execution_count": null,
      "outputs": []
    }
  ],
  "metadata": {
    "accelerator": "GPU",
    "colab": {
      "machine_shape": "hm",
      "name": "east_training.ipynb",
      "provenance": [],
      "collapsed_sections": []
    },
    "kernelspec": {
      "display_name": "Python 3",
      "name": "python3"
    },
    "language_info": {
      "name": "python"
    }
  },
  "nbformat": 4,
  "nbformat_minor": 0
}